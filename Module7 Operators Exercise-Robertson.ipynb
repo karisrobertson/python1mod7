{
 "cells": [
  {
   "cell_type": "markdown",
   "metadata": {},
   "source": [
    "### Exercise 1\n",
    "Ask a user to enter a number. If the number is positive, print <b>Positive number</b>. Otherwise, do not print any message. Finally, print 'goodbye' message at the end."
   ]
  },
  {
   "cell_type": "code",
   "execution_count": 1,
   "metadata": {},
   "outputs": [
    {
     "name": "stdout",
     "output_type": "stream",
     "text": [
      "Please enter a number: 7\n",
      "Positive Number\n",
      "goodbye\n"
     ]
    }
   ],
   "source": [
    "num1= int(input(\"Please enter a number: \"))\n",
    "\n",
    "if num1 >= 0 : \n",
    "    print (\"Positive Number\")\n",
    "\n",
    "    \n",
    "print (\"goodbye\")"
   ]
  },
  {
   "cell_type": "markdown",
   "metadata": {},
   "source": [
    "### Exercise 2\n",
    "Ask for a code and store that answer. \n",
    "If the answer is grey then print out if you found secret code.\n",
    "Otherwise print out the code is not the secret code."
   ]
  },
  {
   "cell_type": "code",
   "execution_count": 2,
   "metadata": {},
   "outputs": [
    {
     "name": "stdout",
     "output_type": "stream",
     "text": [
      "Please enter code here: yellow\n",
      "The code is NOT the secret code\n"
     ]
    }
   ],
   "source": [
    "code= input(\"Please enter code here: \")\n",
    "code= code.lower()\n",
    "\n",
    "if code == \"grey\" :\n",
    "    print(\"You found secret code\")\n",
    "\n",
    "elif code != \"grey\" :\n",
    "    print(\"The code is NOT the secret code\")\n",
    "    \n",
    "    "
   ]
  },
  {
   "cell_type": "markdown",
   "metadata": {},
   "source": [
    "### Exercise 3\n",
    "\n",
    "Ask a user to enter a phrase. If the word contains a number, display the \"Number found\" message. Otherwise, show the \"Number not found\" message. "
   ]
  },
  {
   "cell_type": "code",
   "execution_count": 19,
   "metadata": {},
   "outputs": [
    {
     "name": "stdout",
     "output_type": "stream",
     "text": [
      "Please Enter a Phrase: u7i\n",
      "Number not found\n"
     ]
    }
   ],
   "source": [
    "phrase= input(\"Please Enter a Phrase: \")\n",
    "\n",
    "\n",
    "##if phrase contains an intiger value \n",
    "\n",
    "def myphrase_(phrase):\n",
    "    if int() in {phrase}:\n",
    "        print(\"Number found\")\n",
    "    else:\n",
    "        print(\"Number not found\")\n",
    "\n",
    "myphrase_(phrase)\n",
    "\n"
   ]
  },
  {
   "cell_type": "markdown",
   "metadata": {},
   "source": [
    "### Exercise 4\n",
    "\n",
    "Ask a user to enter a number. Then, only if the number is divisible by 2 and 3, show the result of the number divided by two and three in a formated string. The output should look something like this:\n",
    "        \n",
    "    Enter a number: 2\n",
    "    Bye    \n",
    "    \n",
    "    Enter a number: 60\n",
    "    60 / 2 = 30.0\n",
    "    60 / 3 = 20.0\n",
    "    Bye\n",
    "    \n",
    "    Enter a number: 3\n",
    "    Bye\n",
    "    \n",
    "    Enter a number: 10\n",
    "    Bye    "
   ]
  },
  {
   "cell_type": "code",
   "execution_count": null,
   "metadata": {},
   "outputs": [],
   "source": [
    "num= int(input(\"Enter a number: \"))\n",
    "str = (f\"{num} / 2 = \")\n",
    "str3 = (f\"{num} / 3 = \")\n",
    "\n",
    "\n",
    "    \n",
    "def my_func(num) :  #save the calculation as a function\n",
    "    x= (num/2)\n",
    "    retval = x\n",
    "    return retval\n",
    "\n",
    "def my_func(num) :\n",
    "    x= (num/3)\n",
    "    retval = x\n",
    "    return retval\n",
    "\n",
    "\n",
    "    \n",
    "if num % 2 == 0 :\n",
    "    \n",
    "    if num % 3 == 0 :\n",
    "        print(str, my_func(num))\n",
    "        print(str3, my_func(num))\n",
    "print (\"Bye\")\n",
    "\n",
    "if num % 2 != 0:\n",
    "    if num % 3 != 0: \n",
    "        print (\"Bye\")\n",
    "   "
   ]
  },
  {
   "cell_type": "markdown",
   "metadata": {},
   "source": [
    "### Exercise 5\n",
    "Ask a user to enter a number. Determine if the number is zero, positive or negative. Use only <b>if</b> and <b>else</b> statements. \n",
    "    "
   ]
  },
  {
   "cell_type": "code",
   "execution_count": null,
   "metadata": {},
   "outputs": [],
   "source": [
    "num= input(\"Please enter a number\")\n",
    "\n",
    "if num == 0 \n",
    "elif num >= 0 \n",
    "else num <= 0\n",
    "\n"
   ]
  }
 ],
 "metadata": {
  "kernelspec": {
   "display_name": "Python 3 (ipykernel)",
   "language": "python",
   "name": "python3"
  },
  "language_info": {
   "codemirror_mode": {
    "name": "ipython",
    "version": 3
   },
   "file_extension": ".py",
   "mimetype": "text/x-python",
   "name": "python",
   "nbconvert_exporter": "python",
   "pygments_lexer": "ipython3",
   "version": "3.11.5"
  }
 },
 "nbformat": 4,
 "nbformat_minor": 4
}
